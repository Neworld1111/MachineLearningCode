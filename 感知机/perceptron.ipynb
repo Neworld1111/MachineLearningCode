{
 "cells": [
  {
   "cell_type": "code",
   "execution_count": 83,
   "metadata": {},
   "outputs": [],
   "source": [
    "import numpy as np"
   ]
  },
  {
   "cell_type": "code",
   "execution_count": 82,
   "metadata": {},
   "outputs": [],
   "source": [
    "X = np.array( [[4,4],[4,6],[2,3]] )\n",
    "y = np.array( [1,1,-1] )"
   ]
  },
  {
   "cell_type": "code",
   "execution_count": 81,
   "metadata": {},
   "outputs": [],
   "source": [
    "def findD(X,y,w,b): # 寻找误分类点\n",
    "\n",
    "    X_res = []\n",
    "    y_res = []\n",
    "    \n",
    "    for i in range(len(X)):\n",
    "        if y[i]*( np.dot(w,X[i]) +  b ) <= 0: # 误分类点判别\n",
    "            X_res.append(X[i])\n",
    "            y_res.append(y[i])\n",
    "    return np.array(X_res), np.array(y_res)\n"
   ]
  },
  {
   "cell_type": "code",
   "execution_count": 84,
   "metadata": {},
   "outputs": [],
   "source": [
    "def fit(X,y,eta):\n",
    "    \n",
    "    w = np.zeros( len(X[0]) )\n",
    "    b = 0\n",
    "\n",
    "    while True:\n",
    "        \n",
    "        X_res, y_res = findD(X,y,w,b)\n",
    "        if len(X_res) == 0 : break # 无误分类点时返回\n",
    "\n",
    "        seed = np.random.randint( 0 , len(X_res) ) # 随机一个误分类点\n",
    "\n",
    "        w = w + eta * y_res[seed] * X_res[seed] # 梯度下降\n",
    "        b = b + eta * y_res[seed]\n",
    "\n",
    "    return w,b"
   ]
  },
  {
   "cell_type": "code",
   "execution_count": 87,
   "metadata": {},
   "outputs": [
    {
     "name": "stdout",
     "output_type": "stream",
     "text": [
      "w =  [ 8. -2.]  b =  -14\n"
     ]
    }
   ],
   "source": [
    "w,b = fit(X,y,1)\n",
    "print('wT = ',w,' b = ',b)"
   ]
  }
 ],
 "metadata": {
  "kernelspec": {
   "display_name": "Python 3",
   "language": "python",
   "name": "python3"
  },
  "language_info": {
   "codemirror_mode": {
    "name": "ipython",
    "version": 3
   },
   "file_extension": ".py",
   "mimetype": "text/x-python",
   "name": "python",
   "nbconvert_exporter": "python",
   "pygments_lexer": "ipython3",
   "version": "3.10.6"
  },
  "orig_nbformat": 4
 },
 "nbformat": 4,
 "nbformat_minor": 2
}
