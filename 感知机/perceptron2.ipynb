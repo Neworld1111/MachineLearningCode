{
 "cells": [
  {
   "cell_type": "code",
   "execution_count": 1,
   "metadata": {},
   "outputs": [],
   "source": [
    "import numpy as np"
   ]
  },
  {
   "cell_type": "code",
   "execution_count": 4,
   "metadata": {},
   "outputs": [],
   "source": [
    "X = np.array( [[4,4],[4,6],[2,3]] )\n",
    "y = np.array( [1,1,-1] )"
   ]
  },
  {
   "cell_type": "code",
   "execution_count": 8,
   "metadata": {},
   "outputs": [
    {
     "data": {
      "text/plain": [
       "array([[32, 40, 20],\n",
       "       [40, 52, 26],\n",
       "       [20, 26, 13]])"
      ]
     },
     "execution_count": 8,
     "metadata": {},
     "output_type": "execute_result"
    }
   ],
   "source": [
    "gram = np.array( [[np.dot(X[i],X[j]) for i in range(len(X))]for j in range(len(X))] ) # GRAM计算"
   ]
  },
  {
   "cell_type": "code",
   "execution_count": 18,
   "metadata": {},
   "outputs": [],
   "source": [
    "def findD(X,y,alpha,b): # 寻找误分类点\n",
    "\n",
    "    res = []\n",
    "    \n",
    "    for i in range(len(X)):\n",
    "        if (np.sum(np.array( [alpha[j]*y[j]*gram[i][j] for j in range(len(X))] )) + b)*y[i] <= 0:\n",
    "            res.append(i)\n",
    "        \n",
    "    return res\n"
   ]
  },
  {
   "cell_type": "code",
   "execution_count": 22,
   "metadata": {},
   "outputs": [],
   "source": [
    "def fit(X,y,eta):\n",
    "    \n",
    "    alpha = np.zeros( len(X) )\n",
    "    b = 0\n",
    "\n",
    "    cnt = 0\n",
    "    while True:\n",
    "        \n",
    "        res = findD(X,y,alpha,b)\n",
    "        if len(res) == 0 : break # 无误分类点时返回\n",
    "\n",
    "        seed = np.random.randint( 0 , len(res) ) # 随机一个误分类点\n",
    "        alpha[res[seed]] = alpha[res[seed]] + eta # 梯度下降\n",
    "        b = b + eta * y[res[seed]]\n",
    "\n",
    "    w = np.zeros( len(X[0]) )\n",
    "    for i in range(len(X)): w = w + alpha[i] * y[i] * X[i]\n",
    "    return w,b"
   ]
  },
  {
   "cell_type": "code",
   "execution_count": 26,
   "metadata": {},
   "outputs": [
    {
     "name": "stdout",
     "output_type": "stream",
     "text": [
      "wT =  [ 6. -1.]  b =  -11\n"
     ]
    }
   ],
   "source": [
    "w,b = fit(X,y,1)\n",
    "print('wT = ',w,' b = ',b)"
   ]
  }
 ],
 "metadata": {
  "kernelspec": {
   "display_name": "Python 3",
   "language": "python",
   "name": "python3"
  },
  "language_info": {
   "codemirror_mode": {
    "name": "ipython",
    "version": 3
   },
   "file_extension": ".py",
   "mimetype": "text/x-python",
   "name": "python",
   "nbconvert_exporter": "python",
   "pygments_lexer": "ipython3",
   "version": "3.10.6"
  },
  "orig_nbformat": 4
 },
 "nbformat": 4,
 "nbformat_minor": 2
}
