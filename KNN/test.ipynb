{
 "cells": [
  {
   "cell_type": "code",
   "execution_count": 158,
   "metadata": {},
   "outputs": [],
   "source": [
    "from sklearn.model_selection import train_test_split\n",
    "import numpy as np"
   ]
  },
  {
   "cell_type": "code",
   "execution_count": 159,
   "metadata": {},
   "outputs": [],
   "source": [
    "X = [] \n",
    "y = []\n",
    "with open(\"datingTestSet2.txt\",\"r\") as fr:\n",
    "    \n",
    "    txt_data = fr.readlines() # 读入文本所有行\n",
    "\n",
    "    for line in txt_data: \n",
    "        \n",
    "        line = line.strip().split() #去掉头尾多余字符 并且切分\n",
    "        # ['40920', '8.326976', '0.953952', '3']\n",
    "\n",
    "        X.append( line[0:3] )\n",
    "        y.append( line[-1] )\n",
    "\n",
    "# 转化成numpy数组便于处理\n",
    "X = np.array( X ).astype('float64') # 原数组中都是字符串 需要转化成数字\n",
    "y = np.array( y ).astype('int64')\n",
    "# from sklearn import datasets\n",
    "# iris = datasets.load_iris()\n",
    "# X = iris.data\n",
    "# y = iris.target"
   ]
  },
  {
   "cell_type": "code",
   "execution_count": 160,
   "metadata": {},
   "outputs": [],
   "source": [
    "# 注意axis的选择\n",
    "# 若axis缺省 则是求解整个矩阵X中所有数字的最值\n",
    "# axis=0 返回每一列的最大值\n",
    "# axis=1 返回每一行的最大值\n",
    "\n",
    "def min_Max_norm(X):\n",
    "    X_max = X.max(axis=0)\n",
    "    X_min = X.min(axis=0)\n",
    "    return (X - X_min)/(X_max-X_min)"
   ]
  },
  {
   "cell_type": "code",
   "execution_count": 161,
   "metadata": {},
   "outputs": [],
   "source": [
    "X = min_Max_norm(X) # 归一化\n",
    "x_train, x_test, y_train, y_test = train_test_split(X,y,random_state=2003) # 切分数据集"
   ]
  },
  {
   "cell_type": "code",
   "execution_count": 162,
   "metadata": {},
   "outputs": [],
   "source": [
    "from collections import Counter\n",
    "\n",
    "def knn_classify(X, y, test_exam, K):\n",
    "    distance = [ np.sqrt( np.sum((test_exam-x)**2) ) for x in X] # 计算距离\n",
    "    knn = y[ np.argsort(distance)[:K] ] # 排序后 根据索引取出K近邻的y值\n",
    "    return list(Counter(knn))[0]\n",
    "\n",
    "    # Counter() 返回一个字典 key:value\n",
    "    # key -> 出现的元素\n",
    "    # value -> 出现的次数\n",
    "    # 转换成列表 取出第一个数字记为出现最多的值\n",
    "\n",
    "    # a = np.array([200,100,300,400])\n",
    "    # a.argsort() # [1,0,2,3]  || a = np.argsort(a)\n",
    "\n",
    "def knn_regression(X,y,test_exam,K):\n",
    "    distance = [ np.sqrt( np.sum((test_exam-x)**2) ) for x in X] # 计算距离\n",
    "    knn = y[distance.argsort()[:K]] # 排序后 根据索引取出K近邻的y值\n",
    "    return np.mean(knn) # 回归问题 返回平均值\n"
   ]
  },
  {
   "cell_type": "code",
   "execution_count": 163,
   "metadata": {},
   "outputs": [],
   "source": [
    "def predict(X_train, y_train, X_test, K):\n",
    "    return np.array( [ knn_classify(X_train, y_train, data, K) for data in X_test ] ) # 预测"
   ]
  },
  {
   "cell_type": "code",
   "execution_count": 164,
   "metadata": {},
   "outputs": [],
   "source": [
    "def accuracy(y_pred, y_test):\n",
    "    return np.count_nonzero((y_pred==y_test)==True) / len(y_test) # 计算正确率"
   ]
  },
  {
   "cell_type": "code",
   "execution_count": 165,
   "metadata": {},
   "outputs": [],
   "source": [
    "from sklearn.model_selection import KFold\n",
    "\n",
    "def KFoldCrossValidation(X, y, K):\n",
    "    kf = KFold(n_splits=5) # 10折交叉验证\n",
    "    result = []\n",
    "    for X_train_i,X_test_i in kf.split(X):\n",
    "        result.append( accuracy( predict( X[X_train_i] , y[X_train_i] , X[X_test_i] , K ) , y[X_test_i]) )\n",
    "    return np.mean( result )"
   ]
  },
  {
   "cell_type": "code",
   "execution_count": 166,
   "metadata": {},
   "outputs": [
    {
     "data": {
      "image/png": "[encoded data removed]",
      "text/plain": [
       "<Figure size 640x480 with 1 Axes>"
      ]
     },
     "metadata": {},
     "output_type": "display_data"
    }
   ],
   "source": [
    "import matplotlib.pyplot as plt\n",
    "\n",
    "\n",
    "k_range = range(1, 51)\n",
    "k_scores = []\n",
    "k_max = 0\n",
    "k_maxScore = 0\n",
    "\n",
    "for k in k_range:\n",
    "    k_scores.append( KFoldCrossValidation( x_train , y_train, k ) )\n",
    "    if k_scores[-1] > k_maxScore:\n",
    "        k_maxScore = k_scores[-1]\n",
    "        k_max = k\n",
    "\n",
    "plt.plot(k_range, k_scores)\n",
    "plt.xlabel('Vlaue of K for KNN')\n",
    "plt.ylabel('Cross-Validated Accuracy')\n",
    "plt.show()\n",
    "\n"
   ]
  },
  {
   "cell_type": "code",
   "execution_count": 167,
   "metadata": {},
   "outputs": [
    {
     "name": "stdout",
     "output_type": "stream",
     "text": [
      "Accuracy = 0.948\n"
     ]
    }
   ],
   "source": [
    "print( \"Accuracy =\", accuracy( predict( x_train , y_train , x_test , k_max ) , y_test ))"
   ]
  }
 ],
 "metadata": {
  "kernelspec": {
   "display_name": "Python 3",
   "language": "python",
   "name": "python3"
  },
  "language_info": {
   "codemirror_mode": {
    "name": "ipython",
    "version": 3
   },
   "file_extension": ".py",
   "mimetype": "text/x-python",
   "name": "python",
   "nbconvert_exporter": "python",
   "pygments_lexer": "ipython3",
   "version": "3.10.6"
  },
  "orig_nbformat": 4
 },
 "nbformat": 4,
 "nbformat_minor": 2
}
